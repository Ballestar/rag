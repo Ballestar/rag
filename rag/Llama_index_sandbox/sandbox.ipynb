{
 "cells": [
  {
   "cell_type": "code",
   "execution_count": null,
   "metadata": {},
   "outputs": [],
   "source": [
    "import main\n",
    "index = main.run()"
   ]
  },
  {
   "cell_type": "code",
   "execution_count": null,
   "metadata": {},
   "outputs": [],
   "source": [
    "import logging\n",
    "from llama_index import ServiceContext\n",
    "from llama_index.llms import OpenAI\n",
    "\n",
    "service_context = ServiceContext.from_defaults(llm=OpenAI(model=\"gpt-3.5-turbo\"))\n",
    "# service_context = ServiceContext.from_defaults(llm=OpenAI(model=\"gpt-4\"))\n",
    "\n",
    "query_engine = index.as_query_engine(similarity_top_k=5, service_context=service_context, verbose=True)\n",
    "query_str = \"Can you tell me about the key concepts for safety finetuning\"\n",
    "response = query_engine.query(query_str)\n",
    "logging.info(response)\n",
    "\n",
    "query_str = \"Tell me about LVR\"\n",
    "response = query_engine.query(query_str)\n",
    "logging.info(response)\n",
    "\n",
    "query_str = \"What plagues current AMM designs?\"\n",
    "response = query_engine.query(query_str)\n",
    "logging.info(response)\n",
    "\n",
    "# TODO 2023-09-27: improve the response engine with react agent chatbot.\n",
    "\n",
    "logging.info(response)\n",
    "# chat_engine = index.as_chat_engine(chat_mode=ChatMode.REACT, verbose=True)\n",
    "# response = chat_engine.chat(\"Hi\")\n",
    "pass"
   ]
  },
  {
   "cell_type": "code",
   "execution_count": null,
   "metadata": {},
   "outputs": [],
   "source": [
    "i=1\n",
    "for source_node in response.source_nodes: \n",
    "    print(f\"Node #{i}:\\n \\n{source_node}\\n\\n\")\n",
    "    i+=1"
   ]
  },
  {
   "cell_type": "code",
   "execution_count": null,
   "metadata": {},
   "outputs": [],
   "source": []
  },
  {
   "cell_type": "code",
   "execution_count": null,
   "metadata": {},
   "outputs": [],
   "source": []
  }
 ],
 "metadata": {
  "kernelspec": {
   "display_name": "venv",
   "language": "python",
   "name": "python3"
  },
  "language_info": {
   "codemirror_mode": {
    "name": "ipython",
    "version": 3
   },
   "file_extension": ".py",
   "mimetype": "text/x-python",
   "name": "python",
   "nbconvert_exporter": "python",
   "pygments_lexer": "ipython3",
   "version": "3.8.13"
  },
  "orig_nbformat": 4
 },
 "nbformat": 4,
 "nbformat_minor": 2
}
